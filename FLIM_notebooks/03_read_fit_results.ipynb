{
 "cells": [
  {
   "cell_type": "code",
   "execution_count": null,
   "id": "c32dc5b8",
   "metadata": {},
   "outputs": [],
   "source": [
    "import os\n",
    "from pathlib import Path\n",
    "\n",
    "import matplotlib.pyplot as plt\n",
    "import pandas as pd"
   ]
  },
  {
   "cell_type": "markdown",
   "id": "a0315f38",
   "metadata": {},
   "source": [
    "## User input"
   ]
  },
  {
   "cell_type": "code",
   "execution_count": null,
   "id": "503b4273",
   "metadata": {},
   "outputs": [],
   "source": [
    "# path where segmentation measurements are stored\n",
    "fn_measurements = Path(\n",
    "    r'Z:\\zmbstaff\\9309\\Raw_Data\\240531_Inhibitor_screening_1\\converted_data\\measurements.csv'\n",
    ")\n",
    "# path to where the FLIManalysis fit results are stored (Results_byROI.xlsx)\n",
    "fn_results_xlsx = Path(\n",
    "    r'Z:\\zmbstaff\\9309\\Raw_Data\\240531_Inhibitor_screening_1\\converted_data\\roiExtract\\Results\\mono_exp\\Results_byROI.xlsx'\n",
    ")\n",
    "\n",
    "# path & filename for the combined output table\n",
    "fn_output = Path(\n",
    "    r'Z:\\zmbstaff\\9309\\Raw_Data\\240531_Inhibitor_screening_1\\converted_data\\output_table.csv'\n",
    ")"
   ]
  },
  {
   "cell_type": "markdown",
   "id": "ea1fbe6c",
   "metadata": {},
   "source": [
    "## Load & combine data"
   ]
  },
  {
   "cell_type": "code",
   "execution_count": null,
   "id": "568457cf",
   "metadata": {},
   "outputs": [],
   "source": [
    "# load segmentation measurements\n",
    "df_measurements = pd.read_csv(fn_measurements)"
   ]
  },
  {
   "cell_type": "code",
   "execution_count": null,
   "id": "c4705133",
   "metadata": {},
   "outputs": [],
   "source": [
    "# load fit-results\n",
    "df_results = pd.read_excel(fn_results_xlsx, sheet_name=None)\n",
    "\n",
    "# add ROI_names to df\n",
    "for ROI_name, df in df_results.items():\n",
    "    df[\"label\"] = int(ROI_name.split(\"_\")[1])\n",
    "    df.insert(1, \"label\", df.pop(\"label\"))\n",
    "\n",
    "# merge sheets\n",
    "df_results = pd.concat([df_results[ROI_name] for ROI_name in df_results.keys()], ignore_index=True)\n",
    "# sort by image and label\n",
    "df_results = df_results.sort_values(['Image','label'])\n",
    "# remove rows with NaN in iem column (these should be the ones without a label)\n",
    "df_results = df_results[~df_results.iem.isna()]\n",
    "# reset index\n",
    "df_results = df_results.reset_index(drop=True)\n",
    "# add prefix\n",
    "df_results = df_results.add_prefix('fit_')"
   ]
  },
  {
   "cell_type": "code",
   "execution_count": null,
   "id": "a190d7dc",
   "metadata": {},
   "outputs": [],
   "source": [
    "# COMBINE SEGMENTATION-MEASUREMENTS AND FIT-RESULTS\n",
    "\n",
    "df = pd.concat([df_measurements, df_results], axis=1)\n",
    "\n",
    "# check that data is consistent between the two files\n",
    "if not all(df.label == df.fit_label):\n",
    "    raise ValueError(\"ERROR: labels do not match\")\n",
    "for scene in df.scene.unique():\n",
    "    df_scene = df[df.scene == scene]\n",
    "    if len(df_scene.fit_Image.unique()) != 1:\n",
    "        raise ValueError(f\"ERROR: images do not match\")\n",
    "    \n",
    "# add well information\n",
    "df[\"well\"] = df.scene.str.extract(r\"([A-Z][0-9]{2})\")\n",
    "df.insert(0, \"well\", df.pop(\"well\"))\n",
    "\n",
    "# clean up\n",
    "df.pop(\"fit_Image\")\n",
    "df.pop(\"fit_label\")\n",
    "\n",
    "df"
   ]
  },
  {
   "cell_type": "code",
   "execution_count": null,
   "id": "1a5886c0",
   "metadata": {},
   "outputs": [],
   "source": []
  },
  {
   "cell_type": "markdown",
   "id": "169f395e",
   "metadata": {},
   "source": [
    "## Export combined data"
   ]
  },
  {
   "cell_type": "code",
   "execution_count": null,
   "id": "ca59f667",
   "metadata": {},
   "outputs": [],
   "source": [
    "os.makedirs(fn_output.parent, exist_ok=True)\n",
    "df.to_csv(fn_output, index=False)"
   ]
  },
  {
   "cell_type": "code",
   "execution_count": null,
   "id": "dd1ee6dc",
   "metadata": {},
   "outputs": [],
   "source": []
  },
  {
   "cell_type": "markdown",
   "id": "8147af8d",
   "metadata": {},
   "source": [
    "## Plot some things"
   ]
  },
  {
   "cell_type": "code",
   "execution_count": null,
   "id": "a2e3dc8a",
   "metadata": {},
   "outputs": [],
   "source": [
    "x_col = \"fit_tau_1\"\n",
    "y_col = \"fit_chi2\"\n",
    "plt.scatter(df[x_col], df[y_col], s=16, alpha=0.25, edgecolors='none')\n",
    "plt.xlabel(x_col)\n",
    "plt.ylabel(y_col)"
   ]
  },
  {
   "cell_type": "code",
   "execution_count": null,
   "id": "a03fce37",
   "metadata": {},
   "outputs": [],
   "source": [
    "x_col = \"fit_I\"\n",
    "y_col = \"fit_chi2\"\n",
    "plt.scatter(df[x_col], df[y_col], s=16, alpha=0.25, edgecolors='none')\n",
    "plt.xlabel(x_col)\n",
    "plt.ylabel(y_col)"
   ]
  },
  {
   "cell_type": "code",
   "execution_count": null,
   "id": "4879b2ed",
   "metadata": {},
   "outputs": [],
   "source": [
    "x_col = \"AD_ratio\"\n",
    "y_col = \"fit_tau_1\"\n",
    "plt.scatter(df[x_col], df[y_col], s=16, alpha=0.25, edgecolors='none')\n",
    "plt.xlabel(x_col)\n",
    "plt.ylabel(y_col)"
   ]
  },
  {
   "cell_type": "code",
   "execution_count": null,
   "id": "8d24b21d",
   "metadata": {},
   "outputs": [],
   "source": [
    "x_col = \"donor_intensity_mean\"\n",
    "y_col = \"fit_tau_1\"\n",
    "plt.scatter(df[x_col], df[y_col], s=16, alpha=0.25, edgecolors='none')\n",
    "plt.xlabel(x_col)\n",
    "plt.ylabel(y_col)"
   ]
  },
  {
   "cell_type": "code",
   "execution_count": null,
   "id": "3e815bd1",
   "metadata": {},
   "outputs": [],
   "source": [
    "x_col = \"acceptor_intensity_mean\"\n",
    "y_col = \"fit_tau_1\"\n",
    "plt.scatter(df[x_col], df[y_col], s=16, alpha=0.25, edgecolors='none')\n",
    "plt.xlabel(x_col)\n",
    "plt.ylabel(y_col)"
   ]
  },
  {
   "cell_type": "code",
   "execution_count": null,
   "id": "54e3dbb1",
   "metadata": {},
   "outputs": [],
   "source": [
    "fig, ax = plt.subplots(figsize=(12, 6))\n",
    "\n",
    "df.boxplot(\n",
    "    column='fit_tau_1',\n",
    "    by='well',\n",
    "    ax=ax,\n",
    "    notch=True,\n",
    "    grid=False,\n",
    ")\n",
    "ax.set_ylabel('fit_tau_1')"
   ]
  },
  {
   "cell_type": "code",
   "execution_count": null,
   "id": "2596204c",
   "metadata": {},
   "outputs": [],
   "source": [
    "fig, ax = plt.subplots(figsize=(12, 6))\n",
    "\n",
    "plt.violinplot(dataset=[df[df['well'] == well]['fit_tau_1'] for well in df['well'].unique()], positions=range(len(df['well'].unique())), showmedians=True)\n",
    "ax.set_xticks(range(len(df['well'].unique())))\n",
    "ax.set_xticklabels(df['well'].unique())\n",
    "ax.set_ylabel('fit_tau_1')\n"
   ]
  },
  {
   "cell_type": "code",
   "execution_count": null,
   "id": "a0823c41",
   "metadata": {},
   "outputs": [],
   "source": []
  }
 ],
 "metadata": {
  "kernelspec": {
   "display_name": "Python [conda env:zmb_21] *",
   "language": "python",
   "name": "conda-env-zmb_21-py"
  },
  "language_info": {
   "codemirror_mode": {
    "name": "ipython",
    "version": 3
   },
   "file_extension": ".py",
   "mimetype": "text/x-python",
   "name": "python",
   "nbconvert_exporter": "python",
   "pygments_lexer": "ipython3",
   "version": "3.11.9"
  }
 },
 "nbformat": 4,
 "nbformat_minor": 5
}
