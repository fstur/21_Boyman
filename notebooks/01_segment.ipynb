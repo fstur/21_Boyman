{
 "cells": [
  {
   "cell_type": "code",
   "execution_count": null,
   "id": "fba32d21",
   "metadata": {},
   "outputs": [],
   "source": [
    "from dask.distributed import Client\n",
    "client = Client()\n",
    "client"
   ]
  },
  {
   "cell_type": "code",
   "execution_count": 2,
   "id": "f53e7428-0fa3-4d26-b623-3c2b9616f72a",
   "metadata": {},
   "outputs": [],
   "source": [
    "import os\n",
    "import numpy as np\n",
    "import pandas as pd\n",
    "import dask\n",
    "import dask.array as da\n",
    "import matplotlib.pyplot as plt\n",
    "import tifffile\n",
    "from aicsimageio import AICSImage\n",
    "from cellpose import models\n",
    "from skimage import color\n",
    "from skimage.measure import regionprops_table\n",
    "import napari"
   ]
  },
  {
   "cell_type": "code",
   "execution_count": 3,
   "id": "df3ab362",
   "metadata": {},
   "outputs": [],
   "source": [
    "# relabel labels to be numbered consecutively\n",
    "def relabel(mask):\n",
    "    uniques = np.unique(mask)\n",
    "    for new, old in enumerate(uniques):\n",
    "        mask[mask==old] = new\n",
    "    return mask"
   ]
  },
  {
   "cell_type": "markdown",
   "id": "bd847ead-9ff8-4433-80ed-2f618a625e82",
   "metadata": {},
   "source": [
    "## User input"
   ]
  },
  {
   "cell_type": "code",
   "execution_count": 4,
   "id": "98d1ce59-cc7b-43d5-903e-3f3002ac99fd",
   "metadata": {},
   "outputs": [],
   "source": [
    "# Enter the path to the .lif file to be processed\n",
    "fn = r'Z:\\zmbstaff\\9309\\Raw_Data\\240531_Inhibitor_screening_1\\Inhibitor_screening_1_renamed.lif'\n",
    "\n",
    "# Enter the path to where the masks should be exported\n",
    "export_dir_masks = r'Z:\\zmbstaff\\9309\\Raw_Data\\240531_Inhibitor_screening_1\\converted_data\\roiImages'\n",
    "\n",
    "# Enter the path to where the measurements should be exported\n",
    "export_dir_measurements = r'Z:\\zmbstaff\\9309\\Raw_Data\\240531_Inhibitor_screening_1\\converted_data'"
   ]
  },
  {
   "cell_type": "code",
   "execution_count": 5,
   "id": "493ab713",
   "metadata": {},
   "outputs": [],
   "source": [
    "acceptor_channel = 0\n",
    "donor_channel = 1\n",
    "nuclear_channel = 2"
   ]
  },
  {
   "cell_type": "markdown",
   "id": "1b7678c1",
   "metadata": {},
   "source": [
    "## IO"
   ]
  },
  {
   "cell_type": "code",
   "execution_count": 6,
   "id": "766dc974-c1fc-4477-87e0-24d94fe84056",
   "metadata": {},
   "outputs": [],
   "source": [
    "# load .lif for inspection:\n",
    "lif_img = AICSImage(fn, reconstruct_mosaic=False)"
   ]
  },
  {
   "cell_type": "code",
   "execution_count": null,
   "id": "2dcbe183-35af-43d4-afea-a79891cea1fd",
   "metadata": {
    "scrolled": true
   },
   "outputs": [],
   "source": [
    "all_scenes = lif_img.scenes\n",
    "all_scenes"
   ]
  },
  {
   "cell_type": "code",
   "execution_count": 8,
   "id": "ba75bc9e-e8b4-46b6-aced-5d9f1afc407f",
   "metadata": {},
   "outputs": [],
   "source": [
    "def parse_scenes(scenes: list[str]) -> pd.DataFrame:\n",
    "    # Iterate through data and extract information\n",
    "    indices = []\n",
    "    names = []\n",
    "    for i, path in enumerate(scenes):\n",
    "        if ('/FLIM/' not in path) & ('/FRET/' not in path):\n",
    "            indices.append(i)\n",
    "            names.append(path.split('/')[-1])\n",
    "    \n",
    "    if len(names) != len(set(names)):\n",
    "        raise ValueError('Scene names are not unique!')\n",
    "    \n",
    "    return indices, names"
   ]
  },
  {
   "cell_type": "code",
   "execution_count": null,
   "id": "5ea2fd07-fb47-4470-8a77-026760e1bd8b",
   "metadata": {
    "scrolled": true
   },
   "outputs": [],
   "source": [
    "scene_indices, scene_names = parse_scenes(all_scenes)\n",
    "scene_dict = {name: indiex for name, indiex in zip(scene_names, scene_indices)}\n",
    "scene_dict"
   ]
  },
  {
   "cell_type": "code",
   "execution_count": 10,
   "id": "ffdd99af",
   "metadata": {},
   "outputs": [],
   "source": [
    "@dask.delayed\n",
    "def lazy_load_dask_scene(lif_img, scene_index):\n",
    "    lif_img.set_scene(scene_index)\n",
    "    return lif_img.dask_data\n",
    "\n",
    "def lazy_load_scenes(lif_img, scene_indices):\n",
    "    lazy_list = [lazy_load_dask_scene(lif_img, i) for i in scene_indices]\n",
    "    dask_list = dask.compute(*lazy_list)\n",
    "    return da.stack(dask_list)"
   ]
  },
  {
   "cell_type": "code",
   "execution_count": null,
   "id": "bad3c4a0",
   "metadata": {},
   "outputs": [],
   "source": [
    "scenes_data = lazy_load_scenes(lif_img, scene_indices)\n",
    "scenes_data = scenes_data[:,0,:,0]\n",
    "scenes_data"
   ]
  },
  {
   "cell_type": "markdown",
   "id": "e9a96c77-7a28-484a-bf3c-f3ac0adb55a2",
   "metadata": {},
   "source": [
    "The Axes are:\n",
    "- 0: image no.\n",
    "- 1: channel\n",
    "- 2: y\n",
    "- 3: x"
   ]
  },
  {
   "cell_type": "code",
   "execution_count": 16,
   "id": "d3628484",
   "metadata": {},
   "outputs": [],
   "source": [
    "# load pixel sizes\n",
    "# assume pixels sizes are the same for all scenes\n",
    "dx = lif_img.physical_pixel_sizes.X\n",
    "dy = lif_img.physical_pixel_sizes.Y"
   ]
  },
  {
   "cell_type": "code",
   "execution_count": null,
   "id": "c3e8c6f6-9119-4313-ac08-6fae808adc9c",
   "metadata": {},
   "outputs": [],
   "source": [
    "plt.imshow(scenes_data[0,0].compute())"
   ]
  },
  {
   "cell_type": "code",
   "execution_count": null,
   "id": "fa9af676",
   "metadata": {},
   "outputs": [],
   "source": []
  },
  {
   "cell_type": "markdown",
   "id": "84cabdf5",
   "metadata": {},
   "source": [
    "## cellpose dask"
   ]
  },
  {
   "cell_type": "code",
   "execution_count": 25,
   "id": "073d643c",
   "metadata": {},
   "outputs": [],
   "source": [
    "# assemble data for cellpose:\n",
    "# c0: nuclear signal\n",
    "# c1: A+D\n",
    "data_cp_da = da.stack(\n",
    "    [\n",
    "        scenes_data[:,nuclear_channel],\n",
    "        scenes_data[:,acceptor_channel] + scenes_data[:,donor_channel]\n",
    "    ],\n",
    "    axis=1\n",
    ")"
   ]
  },
  {
   "cell_type": "code",
   "execution_count": null,
   "id": "05cf147f",
   "metadata": {},
   "outputs": [],
   "source": [
    "fig, axs = plt.subplots(1,2)\n",
    "axs[0].imshow(data_cp_da[0,0])\n",
    "axs[1].imshow(data_cp_da[0,1])"
   ]
  },
  {
   "cell_type": "code",
   "execution_count": 27,
   "id": "b7f98e3f",
   "metadata": {},
   "outputs": [],
   "source": [
    "def run_cellpose(block, cp_model_type, cp_channels, cp_diameter):\n",
    "    data_cp = [scene for scene in block]\n",
    "\n",
    "    model = models.Cellpose(gpu=True, model_type=cp_model_type)\n",
    "    masks, *_ = model.eval(\n",
    "        data_cp,\n",
    "        diameter=cp_diameter,\n",
    "        channels=cp_channels,\n",
    "        flow_threshold=0.4,\n",
    "        cellprob_threshold=0.0,\n",
    "        do_3D=False,\n",
    "        normalize=True,\n",
    "    )\n",
    "\n",
    "    return np.array(masks).astype(block.dtype)"
   ]
  },
  {
   "cell_type": "code",
   "execution_count": null,
   "id": "81b8e1dc",
   "metadata": {},
   "outputs": [],
   "source": [
    "# cellpose for nuclei segmentation:\n",
    "masks_nuc_da = da.map_blocks(\n",
    "    run_cellpose,\n",
    "    data_cp_da[:,:1],\n",
    "    cp_model_type='nuclei',\n",
    "    cp_channels=[1,0],\n",
    "    cp_diameter=40, # USER INPUT: approximate nucleus size in pixels\n",
    "    dtype=np.uint16,\n",
    "    drop_axis=1,\n",
    "    chunks=(1,)+data_cp_da.shape[-2:],\n",
    ")\n",
    "masks_nuc = masks_nuc_da.compute()"
   ]
  },
  {
   "cell_type": "code",
   "execution_count": null,
   "id": "b6a297f6",
   "metadata": {},
   "outputs": [],
   "source": [
    "# cellpose for cell segmentation:\n",
    "masks_cell_da = da.map_blocks(\n",
    "    run_cellpose,\n",
    "    data_cp_da.rechunk((1, 2,)+data_cp_da.shape[2:]),\n",
    "    cp_model_type='cyto2',\n",
    "    cp_channels=[2,1],\n",
    "    cp_diameter=50, # USER INPUT: approximate cell size in pixels\n",
    "    dtype=np.uint16,\n",
    "    drop_axis=1,\n",
    "    chunks=(1,)+data_cp_da.shape[-2:],\n",
    ")\n",
    "masks_cell = masks_cell_da.compute()"
   ]
  },
  {
   "cell_type": "code",
   "execution_count": null,
   "id": "c77e3210-8915-4af9-bea1-ecd3fbb26c31",
   "metadata": {},
   "outputs": [],
   "source": [
    "viewer = napari.Viewer()\n",
    "viewer.add_image(scenes_data, channel_axis = 1)\n",
    "viewer.add_labels(masks_nuc)\n",
    "viewer.add_labels(masks_cell)"
   ]
  },
  {
   "cell_type": "markdown",
   "id": "79025b79-60a2-4a56-bad9-66d908cfabbe",
   "metadata": {},
   "source": [
    "# Measurements"
   ]
  },
  {
   "cell_type": "code",
   "execution_count": 31,
   "id": "20a5215a",
   "metadata": {},
   "outputs": [],
   "source": [
    "masks_cyto = []\n",
    "for i, (mask_nuc, mask_cell) in enumerate(zip(masks_nuc, masks_cell)):\n",
    "    mask_cyto = mask_cell.copy()\n",
    "    mask_cyto[mask_nuc!=0] = 0\n",
    "    masks_cyto.append(mask_cyto)\n",
    "masks_cyto = np.array(masks_cyto)"
   ]
  },
  {
   "cell_type": "code",
   "execution_count": null,
   "id": "26b17128",
   "metadata": {},
   "outputs": [],
   "source": [
    "plt.imshow(color.label2rgb(masks_cyto[0]))"
   ]
  },
  {
   "cell_type": "code",
   "execution_count": 33,
   "id": "bd6d5e09",
   "metadata": {},
   "outputs": [],
   "source": [
    "@dask.delayed\n",
    "def _block_measurements(\n",
    "        mask_cell,\n",
    "        mask_cyto,\n",
    "        intensity_acceptor,\n",
    "        intensity_donor,\n",
    "        spacing,\n",
    "        scene_name,\n",
    "):\n",
    "    dy, dx = spacing\n",
    "\n",
    "    # measure cell area\n",
    "    props_cell = pd.DataFrame(\n",
    "        regionprops_table(\n",
    "            mask_cell,\n",
    "            properties=('label', 'area'),\n",
    "            spacing=(dy,dx)\n",
    "        )\n",
    "    )\n",
    "    props_cell = props_cell.rename(columns={'area':'area_cell',})\n",
    "    props_cell = props_cell.set_index('label')\n",
    "\n",
    "    # measure cytoplasm area\n",
    "    props_cyto = pd.DataFrame(\n",
    "        regionprops_table(\n",
    "            mask_cyto,\n",
    "            properties=('label', 'area'),\n",
    "            spacing=(dy,dx)\n",
    "        )\n",
    "    )\n",
    "    props_cyto = props_cyto.rename(columns={'area':'area_cytoplasm',})\n",
    "    props_cyto = props_cyto.set_index('label')\n",
    "\n",
    "    # infer nuclear area\n",
    "    props_cyto['area_nucleus'] = props_cell['area_cell'] - props_cyto['area_cytoplasm']\n",
    "\n",
    "    # measure acceptor intensity\n",
    "    props_acceptor = pd.DataFrame(\n",
    "        regionprops_table(\n",
    "            mask_cyto,\n",
    "            intensity_image=intensity_acceptor,\n",
    "            properties=('label', 'intensity_mean','intensity_min','intensity_max'),\n",
    "            spacing=(dy,dx)\n",
    "        )\n",
    "    )\n",
    "    props_acceptor = props_acceptor.rename(\n",
    "        columns={\n",
    "            'intensity_mean':'acceptor_intensity_mean',\n",
    "            'intensity_min':'acceptor_intensity_min',\n",
    "            'intensity_max':'acceptor_intensity_max',\n",
    "        }\n",
    "    )\n",
    "    props_acceptor = props_acceptor.set_index('label')\n",
    "\n",
    "    # measure donor intensity\n",
    "    props_donor = pd.DataFrame(\n",
    "        regionprops_table(\n",
    "            mask_cyto,\n",
    "            intensity_image=intensity_donor,\n",
    "            properties=('label', 'intensity_mean','intensity_min','intensity_max'),\n",
    "            spacing=(dy,dx)\n",
    "        )\n",
    "    )\n",
    "    props_donor = props_donor.rename(\n",
    "        columns={\n",
    "            'intensity_mean':'donor_intensity_mean',\n",
    "            'intensity_min':'donor_intensity_min',\n",
    "            'intensity_max':'donor_intensity_max',\n",
    "        }\n",
    "    )\n",
    "    props_donor = props_donor.set_index('label')\n",
    "\n",
    "    # measure bounding box\n",
    "    props_bbox = pd.DataFrame(\n",
    "        regionprops_table(\n",
    "            mask_cell,\n",
    "            properties=('label', 'bbox'),\n",
    "            spacing=(dy,dx)\n",
    "        )\n",
    "    )\n",
    "    props_bbox = props_bbox.set_index('label')\n",
    "\n",
    "    # merge all measurements\n",
    "    props = pd.concat(\n",
    "        [props_cell['area_cell'], props_cyto, props_acceptor, props_donor,props_bbox],\n",
    "        axis=1,\n",
    "    )\n",
    "    props = props.reset_index()\n",
    "    props.insert(0, 'scene', scene_name)\n",
    "    props['AD_ratio'] = props['acceptor_intensity_mean'] / props['donor_intensity_mean']\n",
    "\n",
    "    return props"
   ]
  },
  {
   "cell_type": "code",
   "execution_count": null,
   "id": "f6937e65",
   "metadata": {},
   "outputs": [],
   "source": [
    "meta = _block_measurements(\n",
    "    mask_cell=masks_cell[0],\n",
    "    mask_cyto=masks_cell[0],\n",
    "    intensity_acceptor=masks_cell[0],\n",
    "    intensity_donor=masks_cell[0],\n",
    "    spacing=(dy, dx),\n",
    "    scene_name=scene_names[0],\n",
    ").compute()\n",
    "\n",
    "delayed_dfs = []\n",
    "for mask_cell, mask_cyto, intensity_acceptor, intensity_donor, scene_name in zip(\n",
    "    masks_cell,\n",
    "    masks_cyto,\n",
    "    scenes_data[:,acceptor_channel],\n",
    "    scenes_data[:,donor_channel],\n",
    "    scene_names,\n",
    "):\n",
    "    delayed_dfs.append(\n",
    "        _block_measurements(\n",
    "            mask_cell,\n",
    "            mask_cyto,\n",
    "            intensity_acceptor,\n",
    "            intensity_donor,\n",
    "            (dy, dx),\n",
    "            scene_name,)\n",
    "    )\n",
    "#measurements = dd.from_delayed(delayed_dfs, meta=meta).compute()\n",
    "measurements = pd.concat(dask.compute(*delayed_dfs), axis=0).reset_index(drop=True)"
   ]
  },
  {
   "cell_type": "code",
   "execution_count": null,
   "id": "b90bd7cb",
   "metadata": {},
   "outputs": [],
   "source": [
    "measurements"
   ]
  },
  {
   "cell_type": "code",
   "execution_count": null,
   "id": "6a37607d",
   "metadata": {},
   "outputs": [],
   "source": []
  },
  {
   "cell_type": "markdown",
   "id": "a6c2265a",
   "metadata": {},
   "source": [
    "# Filter"
   ]
  },
  {
   "cell_type": "code",
   "execution_count": null,
   "id": "6fdb0758",
   "metadata": {},
   "outputs": [],
   "source": [
    "measurements_to_plot = [\n",
    "    'area_cell',\n",
    "    'area_cytoplasm',\n",
    "    'area_nucleus',\n",
    "    'donor_intensity_mean',\n",
    "    'acceptor_intensity_mean',\n",
    "    'AD_ratio'\n",
    "]\n",
    "\n",
    "fig, axs = plt.subplots(2,3, figsize=(12,6))\n",
    "\n",
    "for ind, col in zip(np.ndindex(2,3), measurements_to_plot):\n",
    "    axs[*ind].set_title(col)\n",
    "    axs[*ind].hist(measurements[col].to_numpy(), bins=64)\n",
    "    axs[*ind].set_xlabel(col)\n",
    "    axs[*ind].set_ylabel('Frequency')\n",
    "\n",
    "fig.suptitle('Unfiltered measurements', weight='bold')\n",
    "plt.tight_layout()"
   ]
  },
  {
   "cell_type": "code",
   "execution_count": 37,
   "id": "8699dafe",
   "metadata": {},
   "outputs": [],
   "source": [
    "# USER INPUT REQUIRED:\n",
    "# specify filters to use:\n",
    "measurements_filtered = measurements.query(\n",
    "    \"50 < area_nucleus < 250\"\n",
    "    \" and \"\n",
    "    \"50 < area_cytoplasm < 250\"\n",
    "    \" and \"\n",
    "    \"0.03 < AD_ratio < 0.12\"\n",
    "    \" and \"\n",
    "    \"donor_intensity_mean < 2000\"\n",
    ").copy()"
   ]
  },
  {
   "cell_type": "code",
   "execution_count": null,
   "id": "3b77bc52",
   "metadata": {},
   "outputs": [],
   "source": [
    "measurements_filtered"
   ]
  },
  {
   "cell_type": "code",
   "execution_count": null,
   "id": "ecede30b",
   "metadata": {},
   "outputs": [],
   "source": [
    "measurements_to_plot = [\n",
    "    'area_cell',\n",
    "    'area_cytoplasm',\n",
    "    'area_nucleus',\n",
    "    'donor_intensity_mean',\n",
    "    'acceptor_intensity_mean',\n",
    "    'AD_ratio'\n",
    "]\n",
    "\n",
    "fig, axs = plt.subplots(2,3, figsize=(12,6))\n",
    "\n",
    "for ind, col in zip(np.ndindex(2,3), measurements_to_plot):\n",
    "    axs[*ind].set_title(col)\n",
    "    axs[*ind].hist(measurements_filtered[col].to_numpy(), bins=64)\n",
    "    axs[*ind].set_xlabel(col)\n",
    "    axs[*ind].set_ylabel('Frequency')\n",
    "\n",
    "fig.suptitle('Filtered measurements', weight='bold')\n",
    "plt.tight_layout()"
   ]
  },
  {
   "cell_type": "code",
   "execution_count": 41,
   "id": "68b56dbb",
   "metadata": {},
   "outputs": [],
   "source": [
    "masks_cyto_filtered = masks_cyto.copy()\n",
    "for i, scene_name in enumerate(scene_names):\n",
    "    labels_filtered = measurements_filtered.query(\"scene == @scene_name\")['label'].unique()\n",
    "    mask_cyto_filtered = masks_cyto_filtered[i]\n",
    "    mask_cyto_filtered[~np.isin(mask_cyto_filtered, labels_filtered)] = 0\n",
    "    #mask_cyto_filtered = relabel(mask_cyto_filtered)"
   ]
  },
  {
   "cell_type": "code",
   "execution_count": null,
   "id": "99d5303a",
   "metadata": {},
   "outputs": [],
   "source": [
    "fig, axs = plt.subplots(1,3, figsize=(12,6))\n",
    "\n",
    "axs[0].set_title('Original')\n",
    "axs[0].imshow(color.label2rgb(masks_cyto[0]))\n",
    "axs[1].set_title('Filtered')\n",
    "axs[1].imshow(color.label2rgb(masks_cyto_filtered[0]))\n",
    "axs[2].set_title('Difference')\n",
    "#axs[2].imshow(color.label2rgb(np.logical_xor(masks_cyto[0], masks_cyto_filtered[0])))\n",
    "axs[2].imshow(color.label2rgb(masks_cyto[0] - masks_cyto_filtered[0]))"
   ]
  },
  {
   "cell_type": "code",
   "execution_count": 43,
   "id": "1ab2cb2e",
   "metadata": {},
   "outputs": [],
   "source": [
    "# relabel labels to be numbered consecutively\n",
    "\n",
    "masks_cyto_relabeled = masks_cyto_filtered.copy()\n",
    "for mask_cyto_relabeled in masks_cyto_relabeled:\n",
    "    mask_cyto_relabeled = relabel(mask_cyto_relabeled)\n",
    "\n",
    "measurements_relabeled = measurements_filtered.copy()\n",
    "for scene in measurements_relabeled.scene.unique():\n",
    "    measurements_relabeled.loc[\n",
    "        measurements_relabeled['scene'] == scene,\n",
    "        'label',\n",
    "    ] = range(\n",
    "        1,\n",
    "        len(measurements_relabeled.query(\"scene == @scene\"))+1\n",
    "    )"
   ]
  },
  {
   "cell_type": "code",
   "execution_count": null,
   "id": "df603869",
   "metadata": {},
   "outputs": [],
   "source": []
  },
  {
   "cell_type": "markdown",
   "id": "d11bf03f",
   "metadata": {},
   "source": [
    "### Summary"
   ]
  },
  {
   "cell_type": "code",
   "execution_count": null,
   "id": "2bc1518a",
   "metadata": {},
   "outputs": [],
   "source": [
    "viewer = napari.Viewer()\n",
    "viewer.add_image(scenes_data[:,[acceptor_channel, donor_channel, nuclear_channel]], channel_axis=1)\n",
    "viewer.add_labels(masks_nuc, name='masks_nuc', visible=False)\n",
    "viewer.add_labels(masks_cell, name='masks_cell', visible=False)\n",
    "viewer.add_labels(masks_cyto_relabeled, name='masks_cyto_filt')"
   ]
  },
  {
   "cell_type": "code",
   "execution_count": null,
   "id": "374d9c71",
   "metadata": {},
   "outputs": [],
   "source": []
  },
  {
   "cell_type": "markdown",
   "id": "cd3ad024",
   "metadata": {},
   "source": [
    "# Export"
   ]
  },
  {
   "cell_type": "code",
   "execution_count": 48,
   "id": "fd6dce3d",
   "metadata": {},
   "outputs": [],
   "source": [
    "# create export directory:\n",
    "os.makedirs(export_dir_masks, exist_ok=True)\n",
    "os.makedirs(export_dir_measurements, exist_ok=True)"
   ]
  },
  {
   "cell_type": "code",
   "execution_count": 49,
   "id": "43291b27",
   "metadata": {},
   "outputs": [],
   "source": [
    "# export measurements\n",
    "measurements_relabeled.to_csv(os.path.join(export_dir_measurements, 'measurements.csv'), index=False)"
   ]
  },
  {
   "cell_type": "code",
   "execution_count": 50,
   "id": "b852108a",
   "metadata": {},
   "outputs": [],
   "source": [
    "for scene_name, mask in zip(scene_names, masks_cyto_relabeled):\n",
    "    # check if mask is not empty\n",
    "    if mask.max() > 0:\n",
    "        export_name = os.path.join(export_dir_masks, f'{scene_name}_mask.tif')\n",
    "        tifffile.imwrite(export_name, mask, photometric='minisblack')"
   ]
  },
  {
   "cell_type": "code",
   "execution_count": null,
   "id": "64ff1730",
   "metadata": {},
   "outputs": [],
   "source": []
  }
 ],
 "metadata": {
  "kernelspec": {
   "display_name": "Python [conda env:zmb_21] *",
   "language": "python",
   "name": "conda-env-zmb_21-py"
  },
  "language_info": {
   "codemirror_mode": {
    "name": "ipython",
    "version": 3
   },
   "file_extension": ".py",
   "mimetype": "text/x-python",
   "name": "python",
   "nbconvert_exporter": "python",
   "pygments_lexer": "ipython3",
   "version": "3.11.9"
  }
 },
 "nbformat": 4,
 "nbformat_minor": 5
}
