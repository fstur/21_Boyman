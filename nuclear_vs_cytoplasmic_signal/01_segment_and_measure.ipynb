{
 "cells": [
  {
   "cell_type": "code",
   "execution_count": null,
   "id": "fba32d21",
   "metadata": {},
   "outputs": [],
   "source": [
    "from dask.distributed import Client\n",
    "client = Client()\n",
    "client"
   ]
  },
  {
   "cell_type": "code",
   "execution_count": null,
   "id": "f53e7428-0fa3-4d26-b623-3c2b9616f72a",
   "metadata": {},
   "outputs": [],
   "source": [
    "import os\n",
    "from pathlib import Path\n",
    "import numpy as np\n",
    "import pandas as pd\n",
    "import dask\n",
    "import dask.array as da\n",
    "import matplotlib.pyplot as plt\n",
    "import tifffile\n",
    "from aicsimageio import AICSImage\n",
    "from cellpose import models\n",
    "from skimage import color\n",
    "from skimage.measure import regionprops_table\n",
    "import napari"
   ]
  },
  {
   "cell_type": "markdown",
   "id": "bd847ead-9ff8-4433-80ed-2f618a625e82",
   "metadata": {},
   "source": [
    "## User input"
   ]
  },
  {
   "cell_type": "code",
   "execution_count": null,
   "id": "98d1ce59-cc7b-43d5-903e-3f3002ac99fd",
   "metadata": {},
   "outputs": [],
   "source": [
    "# Enter the path to the .lif file to be processed\n",
    "fn = r'Z:\\zmbstaff\\9309\\Raw_Data\\241220_ratio_cytoplasm_nucleus\\STATeLight.lif'\n",
    "\n",
    "# Enter the path to where the masks should be exported\n",
    "export_dir_masks = r'Z:\\zmbstaff\\9309\\Raw_Data\\241220_ratio_cytoplasm_nucleus\\STATeLight\\roiImages'\n",
    "\n",
    "# Enter the path to where the measurements should be exported\n",
    "export_dir_measurements = r'Z:\\zmbstaff\\9309\\Raw_Data\\241220_ratio_cytoplasm_nucleus\\STATeLight'"
   ]
  },
  {
   "cell_type": "code",
   "execution_count": null,
   "id": "493ab713",
   "metadata": {},
   "outputs": [],
   "source": [
    "nuclear_channel = 0\n",
    "cytoplasm_channel = 1\n",
    "channels_to_measure = [1,2]"
   ]
  },
  {
   "cell_type": "markdown",
   "id": "1b7678c1",
   "metadata": {},
   "source": [
    "## IO"
   ]
  },
  {
   "cell_type": "code",
   "execution_count": null,
   "id": "766dc974-c1fc-4477-87e0-24d94fe84056",
   "metadata": {},
   "outputs": [],
   "source": [
    "# load .lif for inspection:\n",
    "lif_img = AICSImage(fn, reconstruct_mosaic=False)"
   ]
  },
  {
   "cell_type": "code",
   "execution_count": null,
   "id": "2dcbe183-35af-43d4-afea-a79891cea1fd",
   "metadata": {
    "scrolled": true
   },
   "outputs": [],
   "source": [
    "all_scenes = lif_img.scenes\n",
    "all_scenes"
   ]
  },
  {
   "cell_type": "code",
   "execution_count": null,
   "id": "ba75bc9e-e8b4-46b6-aced-5d9f1afc407f",
   "metadata": {},
   "outputs": [],
   "source": [
    "def parse_scenes(scenes: list[str]) -> pd.DataFrame:\n",
    "    # Iterate through data and extract information\n",
    "    indices = []\n",
    "    names = []\n",
    "    for i, path in enumerate(scenes):\n",
    "        if ('control' not in path):\n",
    "            indices.append(i)\n",
    "            names.append(path)\n",
    "    \n",
    "    if len(names) != len(set(names)):\n",
    "        raise ValueError('Scene names are not unique!')\n",
    "    \n",
    "    return indices, names"
   ]
  },
  {
   "cell_type": "code",
   "execution_count": null,
   "id": "5ea2fd07-fb47-4470-8a77-026760e1bd8b",
   "metadata": {
    "scrolled": true
   },
   "outputs": [],
   "source": [
    "scene_indices, scene_names = parse_scenes(all_scenes)\n",
    "scene_dict = {name: indiex for name, indiex in zip(scene_names, scene_indices)}\n",
    "scene_dict"
   ]
  },
  {
   "cell_type": "code",
   "execution_count": null,
   "id": "ffdd99af",
   "metadata": {},
   "outputs": [],
   "source": [
    "@dask.delayed\n",
    "def lazy_load_dask_scene(lif_img, scene_index):\n",
    "    lif_img.set_scene(scene_index)\n",
    "    return lif_img.dask_data\n",
    "\n",
    "def lazy_load_scenes(lif_img, scene_indices):\n",
    "    lazy_list = [lazy_load_dask_scene(lif_img, i) for i in scene_indices]\n",
    "    dask_list = dask.compute(*lazy_list)\n",
    "    return da.stack(dask_list)"
   ]
  },
  {
   "cell_type": "code",
   "execution_count": null,
   "id": "bad3c4a0",
   "metadata": {},
   "outputs": [],
   "source": [
    "scenes_data = lazy_load_scenes(lif_img, scene_indices)\n",
    "scenes_data = scenes_data[:,0,:,0]\n",
    "scenes_data = scenes_data.compute()\n",
    "scenes_data.shape"
   ]
  },
  {
   "cell_type": "markdown",
   "id": "e9a96c77-7a28-484a-bf3c-f3ac0adb55a2",
   "metadata": {},
   "source": [
    "The Axes are:\n",
    "- 0: image no.\n",
    "- 1: channel\n",
    "- 2: y\n",
    "- 3: x"
   ]
  },
  {
   "cell_type": "code",
   "execution_count": null,
   "id": "d3628484",
   "metadata": {},
   "outputs": [],
   "source": [
    "# load pixel sizes\n",
    "# assume pixels sizes are the same for all scenes\n",
    "dx = lif_img.physical_pixel_sizes.X\n",
    "dy = lif_img.physical_pixel_sizes.Y"
   ]
  },
  {
   "cell_type": "code",
   "execution_count": null,
   "id": "c3e8c6f6-9119-4313-ac08-6fae808adc9c",
   "metadata": {},
   "outputs": [],
   "source": [
    "plt.imshow(scenes_data[0,0])"
   ]
  },
  {
   "cell_type": "code",
   "execution_count": null,
   "id": "fa9af676",
   "metadata": {},
   "outputs": [],
   "source": []
  },
  {
   "cell_type": "markdown",
   "id": "84cabdf5",
   "metadata": {},
   "source": [
    "## cellpose dask"
   ]
  },
  {
   "cell_type": "code",
   "execution_count": null,
   "id": "073d643c",
   "metadata": {},
   "outputs": [],
   "source": [
    "# assemble data for cellpose:\n",
    "# c0: nuclear signal\n",
    "# c1: cytoplasmic signal\n",
    "data_cp = np.stack(\n",
    "    [\n",
    "        scenes_data[:,nuclear_channel],\n",
    "        scenes_data[:,cytoplasm_channel]\n",
    "    ],\n",
    "    axis=1\n",
    ")"
   ]
  },
  {
   "cell_type": "code",
   "execution_count": null,
   "id": "05cf147f",
   "metadata": {},
   "outputs": [],
   "source": [
    "fig, axs = plt.subplots(1,2)\n",
    "axs[0].imshow(data_cp[0,0])\n",
    "axs[1].imshow(data_cp[0,1])"
   ]
  },
  {
   "cell_type": "code",
   "execution_count": null,
   "id": "b7f98e3f",
   "metadata": {},
   "outputs": [],
   "source": [
    "def run_cellpose(block, cp_model_type, cp_channels, cp_diameter):\n",
    "    data_cp = [scene for scene in block]\n",
    "\n",
    "    model = models.Cellpose(gpu=True, model_type=cp_model_type)\n",
    "    masks, *_ = model.eval(\n",
    "        data_cp,\n",
    "        diameter=cp_diameter,\n",
    "        channels=cp_channels,\n",
    "        flow_threshold=0.4,\n",
    "        cellprob_threshold=0.0,\n",
    "        do_3D=False,\n",
    "        normalize=True,\n",
    "    )\n",
    "\n",
    "    return np.array(masks).astype(block.dtype)"
   ]
  },
  {
   "cell_type": "code",
   "execution_count": null,
   "id": "b4e33667-bb9b-4bd8-8686-37dd669b1584",
   "metadata": {},
   "outputs": [],
   "source": [
    "masks_nuc_cp = run_cellpose(\n",
    "    data_cp[:,:1],\n",
    "    cp_model_type='nuclei',\n",
    "    cp_channels=[1,0],\n",
    "    cp_diameter=50, # USER INPUT: approximate nucleus size in pixels\n",
    ")"
   ]
  },
  {
   "cell_type": "code",
   "execution_count": null,
   "id": "eebe1da3-bcf1-4177-ac78-33169041f0bf",
   "metadata": {},
   "outputs": [],
   "source": [
    "masks_cell_cp = run_cellpose(\n",
    "    data_cp,\n",
    "    cp_model_type='cyto2',\n",
    "    cp_channels=[2,1],\n",
    "    cp_diameter=75, # USER INPUT: approximate nucleus size in pixels\n",
    ")"
   ]
  },
  {
   "cell_type": "code",
   "execution_count": null,
   "id": "c77e3210-8915-4af9-bea1-ecd3fbb26c31",
   "metadata": {},
   "outputs": [],
   "source": [
    "viewer = napari.Viewer()\n",
    "viewer.add_image(scenes_data, channel_axis = 1)\n",
    "viewer.add_labels(masks_nuc_cp)\n",
    "viewer.add_labels(masks_cell_cp)"
   ]
  },
  {
   "cell_type": "markdown",
   "id": "79025b79-60a2-4a56-bad9-66d908cfabbe",
   "metadata": {},
   "source": [
    "# Measurements"
   ]
  },
  {
   "cell_type": "code",
   "execution_count": null,
   "id": "20a5215a",
   "metadata": {},
   "outputs": [],
   "source": [
    "masks_cyto = []\n",
    "masks_nuc = []\n",
    "for i, (mask_nuc_cp, mask_cell_cp) in enumerate(zip(masks_nuc_cp, masks_cell_cp)):\n",
    "    mask_cyto = mask_cell_cp.copy()\n",
    "    mask_nuc = mask_cell_cp.copy()\n",
    "    mask_cyto[mask_nuc_cp!=0] = 0\n",
    "    mask_nuc[mask_cyto!=0] = 0\n",
    "    masks_cyto.append(mask_cyto)\n",
    "    masks_nuc.append(mask_nuc)\n",
    "masks_cyto = np.array(masks_cyto)\n",
    "masks_nuc = np.array(masks_nuc)"
   ]
  },
  {
   "cell_type": "code",
   "execution_count": null,
   "id": "69686572-0a60-40ad-a85d-9233f977b2e0",
   "metadata": {},
   "outputs": [],
   "source": [
    "def _measure_area(mask, spacing, suffix):\n",
    "    # measure area\n",
    "    props = pd.DataFrame(\n",
    "        regionprops_table(\n",
    "            mask,\n",
    "            properties=('label', 'area', 'num_pixels'),\n",
    "            spacing=spacing,\n",
    "        )\n",
    "    )\n",
    "    props = props.rename(columns={\n",
    "        'area':'area_'+suffix,\n",
    "        'num_pixels': 'num_pixels_'+suffix,\n",
    "    })\n",
    "    props = props.set_index('label')\n",
    "    return props"
   ]
  },
  {
   "cell_type": "code",
   "execution_count": null,
   "id": "bb0396db-df62-4ae2-80af-f869af35f827",
   "metadata": {},
   "outputs": [],
   "source": [
    "def _measure_intensity(mask, intensity_image, spacing, channel_no, suffix):\n",
    "    props = pd.DataFrame(\n",
    "        regionprops_table(\n",
    "            mask,\n",
    "            intensity_image=intensity_image,\n",
    "            properties=('label', 'intensity_mean','intensity_min','intensity_max', 'num_pixels'),\n",
    "            spacing=spacing\n",
    "        )\n",
    "    )\n",
    "    props['intensity_tot'] = props['intensity_mean'] * props['num_pixels']\n",
    "    props = props.rename(\n",
    "        columns={\n",
    "            'intensity_mean':f'intensity_mean_c{channel_no}_{suffix}',\n",
    "            'intensity_min':f'intensity_min_c{channel_no}_{suffix}',\n",
    "            'intensity_max':f'intensity_max_c{channel_no}_{suffix}',\n",
    "            'intensity_tot':f'intensity_tot_c{channel_no}_{suffix}',\n",
    "        }\n",
    "    )\n",
    "    props = props.drop(columns='num_pixels')\n",
    "    props = props.set_index('label')\n",
    "    return props"
   ]
  },
  {
   "cell_type": "code",
   "execution_count": null,
   "id": "83f2246e-74a1-4895-854b-69dc6f4657bc",
   "metadata": {},
   "outputs": [],
   "source": [
    "@dask.delayed\n",
    "def _block_measurements(\n",
    "        mask_cell,\n",
    "        mask_cyto,\n",
    "        mask_nuc,\n",
    "        intensity_list,\n",
    "        intensity_channels,\n",
    "        spacing,\n",
    "        scene_name,\n",
    "):\n",
    "    dy, dx = spacing\n",
    "\n",
    "    # measure areas\n",
    "    props_cell = _measure_area(mask=mask_cell, spacing=(dy,dx), suffix='cell')\n",
    "    props_cyto = _measure_area(mask=mask_cyto, spacing=(dy,dx), suffix='cytoplasm')\n",
    "    props_nuc = _measure_area(mask=mask_nuc, spacing=(dy,dx), suffix='nucleus')\n",
    "\n",
    "    # area ratio nucleus: A(nuc) / A(cell)\n",
    "    props_area_ratio = pd.DataFrame(props_nuc['area_nucleus'] / props_cell['area_cell'], columns=('area_ratio_nucleus',))\n",
    "\n",
    "    # measure intensities\n",
    "    props_int_cell_list = []\n",
    "    props_int_cyto_list = []\n",
    "    props_int_nuc_list = []\n",
    "    for intensity_channel, intensity_image in zip(intensity_channels, intensity_list):\n",
    "        props_int_cell_list.append(\n",
    "            _measure_intensity(mask_cell, intensity_image, spacing=(dy,dx), channel_no=intensity_channel, suffix='cell')\n",
    "        )\n",
    "        props_int_cyto_list.append(\n",
    "            _measure_intensity(mask_cyto, intensity_image, spacing=(dy,dx), channel_no=intensity_channel, suffix='cytoplasm')\n",
    "        )\n",
    "        props_int_nuc_list.append(\n",
    "            _measure_intensity(mask_nuc, intensity_image, spacing=(dy,dx), channel_no=intensity_channel, suffix='nucleus')\n",
    "        )\n",
    "    \n",
    "    # intensity ratio cytoplasm/nucleus Itot(cyto) / Itot(nuc)\n",
    "    props_Itot_ratio_list = []\n",
    "    for i, intensity_channel in enumerate(intensity_channels):\n",
    "        itot_cyto = props_int_cyto_list[i][f'intensity_tot_c{intensity_channel}_cytoplasm']\n",
    "        itot_nuc = props_int_nuc_list[i][f'intensity_tot_c{intensity_channel}_nucleus']\n",
    "        props = pd.DataFrame(itot_cyto / itot_nuc, columns=(f'Itot(cyto)/Itot(nuc)_c{intensity_channel}',))\n",
    "        props_Itot_ratio_list.append(props)\n",
    "\n",
    "    # intensity ratio cytoplasm/nucleus Imean(cyto) / Imean(nuc)\n",
    "    props_Imean_ratio_list = []\n",
    "    for i, intensity_channel in enumerate(intensity_channels):\n",
    "        imean_cyto = props_int_cyto_list[i][f'intensity_mean_c{intensity_channel}_cytoplasm']\n",
    "        imean_nuc = props_int_nuc_list[i][f'intensity_mean_c{intensity_channel}_nucleus']\n",
    "        props = pd.DataFrame(imean_cyto / imean_nuc, columns=(f'Imean(cyto)/Imean(nuc)_c{intensity_channel}',))\n",
    "        props_Imean_ratio_list.append(props)\n",
    "\n",
    "    # measure bounding box\n",
    "    props_bbox = pd.DataFrame(\n",
    "        regionprops_table(\n",
    "            mask_cell,\n",
    "            properties=('label', 'bbox'),\n",
    "            spacing=(dy,dx)\n",
    "        )\n",
    "    )\n",
    "    props_bbox = props_bbox.set_index('label')\n",
    "\n",
    "    # merge all measurements\n",
    "    props = pd.concat(\n",
    "        [props_cell, props_cyto, props_nuc, props_area_ratio] + props_int_cell_list + props_int_cyto_list + props_int_nuc_list + props_Itot_ratio_list + props_Imean_ratio_list + [props_bbox,],\n",
    "        axis=1,\n",
    "    )\n",
    "    props = props.reset_index()\n",
    "    props.insert(0, 'scene', scene_name)\n",
    "\n",
    "    props.loc[props['area_cytoplasm'].isna(), 'area_cytoplasm'] = 0\n",
    "    props.loc[props['area_nucleus'].isna(), 'area_nucleus'] = 0\n",
    "\n",
    "    return props"
   ]
  },
  {
   "cell_type": "code",
   "execution_count": null,
   "id": "e3fba7be-b7ea-4907-90d5-6b4581550109",
   "metadata": {},
   "outputs": [],
   "source": [
    "meta = _block_measurements(\n",
    "    mask_cell=masks_cell_cp[0],\n",
    "    mask_cyto=masks_cyto[0],\n",
    "    mask_nuc=masks_nuc[0],\n",
    "    intensity_list=[scenes_data[0,c] for c in channels_to_measure],\n",
    "    intensity_channels=channels_to_measure,\n",
    "    spacing=(dy, dx),\n",
    "    scene_name=scene_names[0],\n",
    ").compute()\n",
    "\n",
    "delayed_dfs = []\n",
    "for mask_cell, mask_cyto, mask_nuc, intensity_list, scene_name in zip(\n",
    "    masks_cell_cp,\n",
    "    masks_cyto,\n",
    "    masks_nuc,\n",
    "    scenes_data[:,channels_to_measure],\n",
    "    scene_names,\n",
    "):\n",
    "    delayed_dfs.append(\n",
    "        _block_measurements(\n",
    "            mask_cell,\n",
    "            mask_cyto,\n",
    "            mask_nuc,\n",
    "            intensity_list,\n",
    "            channels_to_measure,\n",
    "            (dy, dx),\n",
    "            scene_name,)\n",
    "    )\n",
    "#measurements = dd.from_delayed(delayed_dfs, meta=meta).compute()\n",
    "measurements = pd.concat(dask.compute(*delayed_dfs), axis=0).reset_index(drop=True)\n",
    "measurements.insert(1, 'timepoint', measurements['scene'].apply(lambda x: x.split('/')[0]))\n",
    "measurements.insert(2, 'position', measurements['scene'].apply(lambda x: int(x.split('Position ')[1])))"
   ]
  },
  {
   "cell_type": "code",
   "execution_count": null,
   "id": "b90bd7cb",
   "metadata": {},
   "outputs": [],
   "source": [
    "measurements"
   ]
  },
  {
   "cell_type": "code",
   "execution_count": null,
   "id": "6a37607d",
   "metadata": {},
   "outputs": [],
   "source": []
  },
  {
   "cell_type": "markdown",
   "id": "a6c2265a",
   "metadata": {},
   "source": [
    "# Filter"
   ]
  },
  {
   "cell_type": "code",
   "execution_count": null,
   "id": "6fdb0758",
   "metadata": {},
   "outputs": [],
   "source": [
    "measurements_to_plot = [\n",
    "    'area_cell',\n",
    "    'area_cytoplasm',\n",
    "    'area_nucleus',\n",
    "    'area_ratio_nucleus',\n",
    "    'intensity_mean_c1_cell',\n",
    "    'intensity_mean_c1_cytoplasm',\n",
    "    'intensity_mean_c1_nucleus',\n",
    "    'Imean(cyto)/Imean(nuc)_c1',\n",
    "]\n",
    "\n",
    "fig, axs = plt.subplots(2,4, figsize=(16,6))\n",
    "\n",
    "for ax, col in zip(axs.flatten(), measurements_to_plot):\n",
    "    ax.set_title(col)\n",
    "    ax.hist(measurements[col].to_numpy(), bins=64)\n",
    "    ax.set_xlabel(col)\n",
    "    ax.set_ylabel('Frequency')\n",
    "\n",
    "fig.suptitle('Unfiltered measurements', weight='bold')\n",
    "plt.tight_layout()"
   ]
  },
  {
   "cell_type": "code",
   "execution_count": null,
   "id": "8699dafe",
   "metadata": {},
   "outputs": [],
   "source": [
    "# USER INPUT REQUIRED:\n",
    "# specify filters to use:\n",
    "measurements_filtered = measurements.query(\n",
    "    \"100 < area_cell\"\n",
    "    \" and \"\n",
    "    \"0 < area_cytoplasm\"\n",
    "    \" and \"\n",
    "    \"50 < area_nucleus < 200\"\n",
    "    \" and \"\n",
    "    \"10 < intensity_mean_c1_cell\"\n",
    ")\n",
    "\n",
    "# filter out cells touching the border\n",
    "img_shape_y, img_shape_x = scenes_data.shape[-2:]\n",
    "measurements_filtered = measurements_filtered[\n",
    "    (measurements_filtered['bbox-0'] > 0) &\n",
    "    (measurements_filtered['bbox-1'] > 0) &\n",
    "    (measurements_filtered['bbox-2'] < img_shape_y) &\n",
    "    (measurements_filtered['bbox-3'] < img_shape_x)\n",
    "]"
   ]
  },
  {
   "cell_type": "code",
   "execution_count": null,
   "id": "3b77bc52",
   "metadata": {},
   "outputs": [],
   "source": [
    "measurements_filtered"
   ]
  },
  {
   "cell_type": "code",
   "execution_count": null,
   "id": "66bc7619-659e-45cc-827b-e4786e150608",
   "metadata": {},
   "outputs": [],
   "source": [
    "measurements_to_plot = [\n",
    "    'area_cell',\n",
    "    'area_cytoplasm',\n",
    "    'area_nucleus',\n",
    "    'area_ratio_nucleus',\n",
    "    'intensity_mean_c1_cell',\n",
    "    'intensity_mean_c1_cytoplasm',\n",
    "    'intensity_mean_c1_nucleus',\n",
    "    'Imean(cyto)/Imean(nuc)_c1',\n",
    "    #'Itot(cyto)/Itot(nuc)_c1',\n",
    "]\n",
    "\n",
    "fig, axs = plt.subplots(2,4, figsize=(16,6))\n",
    "\n",
    "for ax, col in zip(axs.flatten(), measurements_to_plot):\n",
    "    ax.set_title(col)\n",
    "    ax.hist(measurements_filtered[col].to_numpy(), bins=64)\n",
    "    ax.set_xlabel(col)\n",
    "    ax.set_ylabel('Frequency')\n",
    "\n",
    "fig.suptitle('Filtered measurements', weight='bold')\n",
    "plt.tight_layout()"
   ]
  },
  {
   "cell_type": "code",
   "execution_count": null,
   "id": "e1d3d2bc-1858-488a-b1d3-ad022738c0a9",
   "metadata": {},
   "outputs": [],
   "source": [
    "masks_cell_cp_filtered = masks_cell_cp.copy()\n",
    "masks_cyto_filtered = masks_cyto.copy()\n",
    "masks_nuc_filtered = masks_nuc.copy()\n",
    "for i, scene_name in enumerate(scene_names):\n",
    "    labels_filtered = measurements_filtered.query(\"scene == @scene_name\")['label'].unique()\n",
    "    masks_cell_cp_filtered[i][~np.isin(masks_cell_cp_filtered[i], labels_filtered)] = 0\n",
    "    masks_cyto_filtered[i][~np.isin(masks_cyto_filtered[i], labels_filtered)] = 0\n",
    "    masks_nuc_filtered[i][~np.isin(masks_nuc_filtered[i], labels_filtered)] = 0"
   ]
  },
  {
   "cell_type": "code",
   "execution_count": null,
   "id": "cdaea5c2-17bf-4d62-8c4f-1d20cadadacb",
   "metadata": {},
   "outputs": [],
   "source": [
    "viewer = napari.Viewer()\n",
    "viewer.add_image(scenes_data[:,[nuclear_channel, cytoplasm_channel]], channel_axis=1)\n",
    "viewer.add_labels(masks_nuc, name='masks_nuc_all', visible=False)\n",
    "viewer.add_labels(masks_cell_cp, name='masks_cell_all', visible=False)\n",
    "viewer.add_labels(masks_cell_cp_filtered, name='masks_cell_filt')"
   ]
  },
  {
   "cell_type": "code",
   "execution_count": null,
   "id": "6cba40a7-ced9-46bb-b1a8-ef46cd6258d8",
   "metadata": {},
   "outputs": [],
   "source": []
  },
  {
   "cell_type": "markdown",
   "id": "3f8b447d-d75c-4f7d-bc19-35664a784fc6",
   "metadata": {},
   "source": [
    "### Aggregate measurements"
   ]
  },
  {
   "cell_type": "code",
   "execution_count": null,
   "id": "6e921927-be43-44c6-8dbb-c6a8d63695eb",
   "metadata": {},
   "outputs": [],
   "source": [
    "measurements_filtered_aggregated = measurements_filtered.drop(\n",
    "    columns=['scene', 'position', 'label','bbox-0', 'bbox-1', 'bbox-2', 'bbox-3']\n",
    ").groupby('timepoint', sort=False).agg(['mean', 'std', 'sem', 'count'])"
   ]
  },
  {
   "cell_type": "code",
   "execution_count": null,
   "id": "65ca1675-23f9-433a-9c5a-c1a00d6675a9",
   "metadata": {},
   "outputs": [],
   "source": [
    "measurements_filtered_aggregated"
   ]
  },
  {
   "cell_type": "code",
   "execution_count": null,
   "id": "53120a0e-89ad-4eaa-af4c-fee359f39659",
   "metadata": {},
   "outputs": [],
   "source": [
    "fig, ax = plt.subplots(1,1,figsize=(10,5))\n",
    "\n",
    "for c in channels_to_measure:\n",
    "    ax.errorbar(\n",
    "        measurements_filtered_aggregated[f'Imean(cyto)/Imean(nuc)_c{c}'].index,\n",
    "        measurements_filtered_aggregated[f'Imean(cyto)/Imean(nuc)_c{c}']['mean'],\n",
    "        yerr=measurements_filtered_aggregated[f'Imean(cyto)/Imean(nuc)_c{c}']['sem'],\n",
    "        fmt='o',\n",
    "        capsize=5,\n",
    "        label=f'Channel {c}',\n",
    "        \n",
    "    )\n",
    "ax.set_ylabel(r'$I_{mean}(cytoplasm) / I_{mean}(nucleus)$')\n",
    "ax.legend(loc='upper right')"
   ]
  },
  {
   "cell_type": "code",
   "execution_count": null,
   "id": "e7d21d3a-40e3-48e5-9f1c-d93faa5635e2",
   "metadata": {},
   "outputs": [],
   "source": [
    "fig, ax = plt.subplots(1,1,figsize=(10,5))\n",
    "\n",
    "for c in channels_to_measure:\n",
    "    ax.errorbar(\n",
    "        measurements_filtered_aggregated[f'Itot(cyto)/Itot(nuc)_c{c}'].index,\n",
    "        measurements_filtered_aggregated[f'Itot(cyto)/Itot(nuc)_c{c}']['mean'],\n",
    "        yerr=measurements_filtered_aggregated[f'Itot(cyto)/Itot(nuc)_c{c}']['sem'],\n",
    "        fmt='o',\n",
    "        capsize=5,\n",
    "        label=f'Channel {c}',\n",
    "        \n",
    "    )\n",
    "ax.set_ylabel(r'$I_{tot}(cytoplasm) / I_{tot}(nucleus)$')\n",
    "ax.legend(loc='upper right')"
   ]
  },
  {
   "cell_type": "code",
   "execution_count": null,
   "id": "374d9c71",
   "metadata": {},
   "outputs": [],
   "source": []
  },
  {
   "cell_type": "markdown",
   "id": "cd3ad024",
   "metadata": {},
   "source": [
    "# Export"
   ]
  },
  {
   "cell_type": "code",
   "execution_count": null,
   "id": "fd6dce3d",
   "metadata": {},
   "outputs": [],
   "source": [
    "# create export directory:\n",
    "os.makedirs(Path(export_dir_masks) / 'masks_cell', exist_ok=True)\n",
    "os.makedirs(Path(export_dir_masks) / 'masks_cytoplasm', exist_ok=True)\n",
    "os.makedirs(Path(export_dir_masks) / 'masks_nucleus', exist_ok=True)\n",
    "os.makedirs(Path(export_dir_masks) / 'masks_cell_filtered', exist_ok=True)\n",
    "os.makedirs(Path(export_dir_masks) / 'masks_cytoplasm_filtered', exist_ok=True)\n",
    "os.makedirs(Path(export_dir_masks) / 'masks_nucleus_filtered', exist_ok=True)\n",
    "os.makedirs(Path(export_dir_measurements), exist_ok=True)"
   ]
  },
  {
   "cell_type": "code",
   "execution_count": null,
   "id": "43291b27",
   "metadata": {},
   "outputs": [],
   "source": [
    "# export measurements\n",
    "measurements.to_csv(os.path.join(export_dir_measurements, 'measurements_unfiltered.csv'), index=False)\n",
    "measurements_filtered.to_csv(os.path.join(export_dir_measurements, 'measurements_filtered.csv'), index=False)\n",
    "measurements_filtered_aggregated.to_csv(os.path.join(export_dir_measurements, 'measurements_filtered_summary.csv'), index=False)"
   ]
  },
  {
   "cell_type": "code",
   "execution_count": null,
   "id": "b852108a",
   "metadata": {},
   "outputs": [],
   "source": [
    "for scene_name, mask_cell, mask_cyto, mask_nuc, mask_cell_filt, mask_cyto_filt, mask_nuc_filt in zip(scene_names, masks_cell_cp, masks_cyto, masks_nuc, masks_cell_cp_filtered, masks_cyto_filtered, masks_nuc_filtered):\n",
    "    scene_name_new = scene_name.replace('/','_')\n",
    "    export_name = Path(export_dir_masks) / 'masks_cell' / f'{scene_name_new}_mask.tif'\n",
    "    tifffile.imwrite(export_name, mask_cell, photometric='minisblack')\n",
    "    export_name = Path(export_dir_masks) / 'masks_cytoplasm' / f'{scene_name_new}_mask.tif'\n",
    "    tifffile.imwrite(export_name, mask_cyto, photometric='minisblack')\n",
    "    export_name = Path(export_dir_masks) / 'masks_nucleus' / f'{scene_name_new}_mask.tif'\n",
    "    tifffile.imwrite(export_name, mask_nuc, photometric='minisblack')\n",
    "    export_name = Path(export_dir_masks) / 'masks_cell_filtered' / f'{scene_name_new}_mask.tif'\n",
    "    tifffile.imwrite(export_name, mask_cell_filt, photometric='minisblack')\n",
    "    export_name = Path(export_dir_masks) / 'masks_cytoplasm_filtered' / f'{scene_name_new}_mask.tif'\n",
    "    tifffile.imwrite(export_name, mask_cyto_filt, photometric='minisblack')\n",
    "    export_name = Path(export_dir_masks) / 'masks_nucleus_filtered' / f'{scene_name_new}_mask.tif'\n",
    "    tifffile.imwrite(export_name, mask_nuc_filt, photometric='minisblack')"
   ]
  },
  {
   "cell_type": "code",
   "execution_count": null,
   "id": "64ff1730",
   "metadata": {},
   "outputs": [],
   "source": []
  }
 ],
 "metadata": {
  "kernelspec": {
   "display_name": "Python 3 (ipykernel)",
   "language": "python",
   "name": "python3"
  },
  "language_info": {
   "codemirror_mode": {
    "name": "ipython",
    "version": 3
   },
   "file_extension": ".py",
   "mimetype": "text/x-python",
   "name": "python",
   "nbconvert_exporter": "python",
   "pygments_lexer": "ipython3",
   "version": "3.11.11"
  }
 },
 "nbformat": 4,
 "nbformat_minor": 5
}
